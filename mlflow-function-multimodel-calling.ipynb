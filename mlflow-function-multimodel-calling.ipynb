{
 "cells": [
  {
   "cell_type": "code",
   "execution_count": null,
   "id": "effe6f66-8825-4216-8305-f1acfc2648b2",
   "metadata": {},
   "outputs": [],
   "source": [
    "import mlflow\n",
    "import mlflow.sklearn\n",
    "from sklearn.model_selection import train_test_split\n",
    "from sklearn.preprocessing import StandardScaler\n",
    "from sklearn.linear_model import LogisticRegression\n",
    "from sklearn.tree import DecisionTreeClassifier\n",
    "from sklearn.metrics import classification_report"
   ]
  },
  {
   "cell_type": "code",
   "execution_count": null,
   "id": "c6c530b1-67c5-41e8-a118-0da952815fd2",
   "metadata": {},
   "outputs": [],
   "source": [
    "\n",
    "# Define a function to handle model training, evaluation, and logging\n",
    "def train_evaluate_log_model(model, model_name, X_train, X_test, y_train, y_test, params):\n",
    "    # Train the model\n",
    "    model.fit(X_train, y_train)\n",
    "\n",
    "    # Predict and evaluate\n",
    "    y_pred = model.predict(X_test)\n",
    "    print(f\"{model_name}:\")\n",
    "    print(classification_report(y_test, y_pred))\n",
    "\n",
    "    # Generate classification report as a dictionary\n",
    "    class_report = classification_report(y_test, y_pred, output_dict=True)\n",
    "\n",
    "    # Log with MLflow\n",
    "    with mlflow.start_run():\n",
    "        mlflow.log_params(params)\n",
    "        mlflow.log_metrics({\n",
    "            'accuracy': class_report['accuracy'],\n",
    "            'recall_class_0': class_report['0']['recall'],\n",
    "            'recall_class_1': class_report['1']['recall'],\n",
    "            'f1_score': class_report['macro avg']['f1-score']\n",
    "        })\n",
    "        mlflow.sklearn.log_model(model, model_name)\n",
    "        print(f\"Model {model_name} logged successfully.\\n\")\n",
    "\n"
   ]
  },
  {
   "cell_type": "code",
   "execution_count": null,
   "id": "145b2eb1-e432-4ec4-9dcc-1e28e461608b",
   "metadata": {},
   "outputs": [],
   "source": [
    "\n",
    "# Load and preprocess data\n",
    "X_train, X_test, y_train, y_test = train_test_split(X, y, test_size=0.2, random_state=102)\n",
    "scaler = StandardScaler()\n",
    "X_train = scaler.fit_transform(X_train)\n",
    "X_test = scaler.transform(X_test)\n",
    "\n",
    "# Set up MLflow experiment\n",
    "mlflow.set_experiment(\"cancer_data\")\n",
    "mlflow.set_tracking_uri(uri=\"http://127.0.0.1:5000/\")\n",
    "\n"
   ]
  },
  {
   "cell_type": "code",
   "execution_count": null,
   "id": "16432d95-7eb5-4742-b64e-da2a130d4c0f",
   "metadata": {},
   "outputs": [],
   "source": [
    "# Logistic Regression\n",
    "logistic_params = {\n",
    "    \"solver\": \"lbfgs\",\n",
    "    \"max_iter\": 10000,\n",
    "    \"multi_class\": \"auto\",\n",
    "    \"random_state\": 8888,\n",
    "}\n",
    "logistic_model = LogisticRegression(**logistic_params)\n",
    "train_evaluate_log_model(logistic_model, \"Logistic Regression\", X_train, X_test, y_train, y_test, logistic_params)\n",
    "\n"
   ]
  },
  {
   "cell_type": "code",
   "execution_count": null,
   "id": "db0788cf-03ce-480c-8847-f01ed32a59ff",
   "metadata": {},
   "outputs": [],
   "source": [
    "# Decision Tree Classifier\n",
    "dt_params = {\n",
    "    \"random_state\": 8888,\n",
    "}\n",
    "dt_model = DecisionTreeClassifier(**dt_params)\n",
    "train_evaluate_log_model(dt_model, \"Decision Tree Classifier\", X_train, X_test, y_train, y_test, dt_params)\n",
    "\n",
    "\n",
    "# You can add other models like SVM, RandomForest, and XGBoost similarly:\n",
    "# Example:\n",
    "from sklearn.ensemble import RandomForestClassifier\n",
    "rf_params = {\"n_estimators\": 100, \"random_state\": 8888}\n",
    "rf_model = RandomForestClassifier(**rf_params)\n",
    "train_evaluate_log_model(rf_model, \"Random Forest Classifier\", X_train, X_test, y_train, y_test, rf_params)\n",
    "\n",
    "\n",
    "# from xgboost import XGBClassifier\n",
    "# xgb_params = {\"random_state\": 8888}\n",
    "# xgb_model = XGBClassifier(**xgb_params)\n",
    "# train_evaluate_log_model(xgb_model, \"XGBoost Classifier\", X_train, X_test, y_train, y_test, xgb_params)"
   ]
  }
 ],
 "metadata": {
  "kernelspec": {
   "display_name": "Python 3 (ipykernel)",
   "language": "python",
   "name": "python3"
  },
  "language_info": {
   "codemirror_mode": {
    "name": "ipython",
    "version": 3
   },
   "file_extension": ".py",
   "mimetype": "text/x-python",
   "name": "python",
   "nbconvert_exporter": "python",
   "pygments_lexer": "ipython3",
   "version": "3.10.14"
  }
 },
 "nbformat": 4,
 "nbformat_minor": 5
}
